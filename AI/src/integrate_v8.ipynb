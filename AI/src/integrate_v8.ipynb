{
 "cells": [
  {
   "cell_type": "code",
   "execution_count": 2,
   "metadata": {},
   "outputs": [],
   "source": [
    "import os\n",
    "import shutil"
   ]
  },
  {
   "attachments": {},
   "cell_type": "markdown",
   "metadata": {},
   "source": [
    "### 학습 시킬 파일 폴더 생성"
   ]
  },
  {
   "cell_type": "code",
   "execution_count": null,
   "metadata": {},
   "outputs": [],
   "source": [
    "#종합폴더 만들기\n",
    "def makedir(dir_name, path):\n",
    "    os.makedirs(f\"{path}/{dir_name}\")\n",
    "    os.makedirs(f\"{path}/{dir_name}/train\")\n",
    "    os.makedirs(f\"{path}/{dir_name}/train/images\")\n",
    "    os.makedirs(f\"{path}/{dir_name}/train/labels\")\n",
    "    os.makedirs(f\"{path}/{dir_name}/valid\")\n",
    "    os.makedirs(f\"{path}/{dir_name}/valid/images\")\n",
    "    os.makedirs(f\"{path}/{dir_name}/valid/labels\")"
   ]
  },
  {
   "cell_type": "code",
   "execution_count": null,
   "metadata": {},
   "outputs": [],
   "source": [
    "dir_name = \"1\" #생성할 폴더 이름\n",
    "path = '' #path 맞춰서 지정\n",
    "makedir(dir_name, path)"
   ]
  },
  {
   "attachments": {},
   "cell_type": "markdown",
   "metadata": {},
   "source": [
    "### 지정된 경로의 파일들을 지정된 폴더로 복사"
   ]
  },
  {
   "cell_type": "code",
   "execution_count": 3,
   "metadata": {},
   "outputs": [],
   "source": [
    "def integrate(dir_name, folder, path):\n",
    "    #파일 통합\n",
    "    for i in folder:\n",
    "        print(f\"{i} 복사 시작\")\n",
    "        tr = os.listdir(f\"{path}/{i}/train/labels\")\n",
    "        tr_name = [x.split(\".txt\")[0] for x in tr if x.endswith(\".txt\")] #훈련 파일 이름 복사\n",
    "        val = os.listdir(f\"{path}/{i}/valid/labels\")\n",
    "        val_name = [x.split(\".txt\")[0] for x in val if x.endswith(\".txt\")] #검증 파일 이름 복사\n",
    "            \n",
    "        #훈련 파일 복사 \n",
    "        for name in tr_name:\n",
    "            shutil.copyfile(f\"{path}/{i}/train/images/{name}.jpg\", f\"{path}/{dir_name}/train/images/{name}.jpg\")\n",
    "            shutil.copyfile(f\"{path}/{i}/train/labels/{name}.txt\", f\"{path}/{dir_name}/train/labels/{name}.txt\")\n",
    "            \n",
    "        #검증 파일 복사 \n",
    "        for name in val_name:\n",
    "            shutil.copyfile(f\"{path}/{i}/valid/images/{name}.jpg\", f\"{path}/{dir_name}/valid/images/{name}.jpg\")\n",
    "            shutil.copyfile(f\"{path}/{i}/valid/labels/{name}.txt\", f\"{path}/{dir_name}/valid/labels/{name}.txt\")\n",
    "        print(f\"{i} 복사 완료\")"
   ]
  },
  {
   "cell_type": "code",
   "execution_count": 4,
   "metadata": {},
   "outputs": [],
   "source": [
    "#사진 분리해서 넣어둔 폴더의 상위 폴더 경로 \n",
    "# ex) scooter 경로 : \"data_yolov8/scooter\" \n",
    "#     barricade 경로 : \"data_yolov8/barricade\" \n",
    "# 일때 path = \"data_yolov8\" \n",
    "\n",
    "dir_name = \"1\" #저장할 폴더 이름 \n",
    "path = '' #복사할 폴더들 경로\n",
    "folder = ['barricade_v8', 'night_v8','scooter-aug', 'data1_v8'] #복사할 폴더 이름들, 경로 제외\n",
    "\n",
    "integrate(dir_name,folder)"
   ]
  }
 ],
 "metadata": {
  "kernelspec": {
   "display_name": "base",
   "language": "python",
   "name": "python3"
  },
  "language_info": {
   "codemirror_mode": {
    "name": "ipython",
    "version": 3
   },
   "file_extension": ".py",
   "mimetype": "text/x-python",
   "name": "python",
   "nbconvert_exporter": "python",
   "pygments_lexer": "ipython3",
   "version": "3.9.15"
  },
  "orig_nbformat": 4,
  "vscode": {
   "interpreter": {
    "hash": "73f15aa21341e3eafe5c8ee4ae0757ca383b3faf02ca9d9148520ce6408add7d"
   }
  }
 },
 "nbformat": 4,
 "nbformat_minor": 2
}
