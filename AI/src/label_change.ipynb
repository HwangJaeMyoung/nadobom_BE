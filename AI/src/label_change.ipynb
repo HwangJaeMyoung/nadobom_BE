{
 "cells": [
  {
   "cell_type": "code",
   "execution_count": null,
   "metadata": {},
   "outputs": [],
   "source": [
    "#scooter_v8 파일 새로 뽑을 때 라벨링 교환 필수!!!\n",
    "\n",
    "#--기존--\n",
    "#nc: 6\n",
    "#names: ['barricade', 'bicycle', 'bollard', 'movable_signage', 'scooter', 'truck']\n",
    "\n",
    "#--변경--\n",
    "#nc: 6\n",
    "#names: ['barricade', 'bicycle', 'bollard', 'movable_signage', 'truck', 'scooter']\n",
    "\n",
    "#사유 : 킥보드를 뺀 사진들은 4번자리에 truck이 라벨링됨\n",
    "#ex) \n",
    "#nc: 5\n",
    "#names: ['barricade', 'bicycle', 'bollard', 'movable_signage', 'truck']"
   ]
  },
  {
   "cell_type": "code",
   "execution_count": 1,
   "metadata": {},
   "outputs": [],
   "source": [
    "import os"
   ]
  },
  {
   "cell_type": "code",
   "execution_count": 6,
   "metadata": {},
   "outputs": [],
   "source": [
    "def change(dir,path):\n",
    "    path_tr = f\"data_yolov8/{path}/train/labels/\"\n",
    "    path_val = f\"data_yolov8/{path}/valid/labels/\"\n",
    "    tr = os.listdir(path_tr) #훈련 폴더 label txt이름 리스트\n",
    "    val = os.listdir(path_val) ##검증 폴더 label txt이름 리스트\n",
    "           \n",
    "    for name in tr:\n",
    "        change = \"\"\n",
    "        \n",
    "        f = open(f\"{path_tr}/{name}\")\n",
    "        while True:\n",
    "            line = f.readline()\n",
    "            if not line : break\n",
    "            line = list(line)\n",
    "            \n",
    "            #딕셔너리 형태로 만들어서 이름 존재하는것만 주석처리 빼고 넣어주기\n",
    "            #if line[0] == '0' : line[0] = dir['0']\n",
    "            #elif line[0] == '1' : line[0] = dir['1']\n",
    "            #elif line[0] == '2' : line[0] = dir['2']\n",
    "            #elif line[0] == '3' : line[0] = dir['3']\n",
    "            if line[0] == '4' : line[0] = dir['4']\n",
    "            elif line[0] == '5' : line[0] = dir['5']\n",
    "            line = ''.join(s for s in line)\n",
    "            change += line\n",
    "        f.close()\n",
    "\n",
    "        f = open(f\"{path_tr}/{name}\",\"w\")\n",
    "        f.write(change)\n",
    "        f.close()\n",
    "    \n",
    "    for name in val:\n",
    "        change = \"\"\n",
    "        \n",
    "        f = open(f\"{path_val}/{name}\")\n",
    "        while True:\n",
    "            line = f.readline()\n",
    "            if not line : break\n",
    "            line = list(line)\n",
    "            \n",
    "            #딕셔너리 형태로 만들어서 이름 존재하는것만 주석처리 빼고 넣어주기\n",
    "            #if line[0] == '0' : line[0] = dir['0']\n",
    "            #elif line[0] == '1' : line[0] = dir['1']\n",
    "            #elif line[0] == '2' : line[0] = dir['2']\n",
    "            #elif line[0] == '3' : line[0] = dir['3']\n",
    "            if line[0] == '4' : line[0] = dir['4']\n",
    "            elif line[0] == '5' : line[0] = dir['5']\n",
    "            \n",
    "            line = ''.join(s for s in line)\n",
    "            change += line\n",
    "        f.close()\n",
    "\n",
    "        f = open(f\"{path_val}/{name}\",\"w\") \n",
    "        f.write(change) #변경내용 저장\n",
    "        f.close()\n"
   ]
  },
  {
   "cell_type": "code",
   "execution_count": 7,
   "metadata": {},
   "outputs": [],
   "source": [
    "#애들 roboflow 뽑을 때 나오는 yaml파일 보고 라벨링 번호 맞는지 확인 잘하기\n",
    "\n",
    "#라벨링 변경 딕셔너리\n",
    "dir = {'4':'5',\n",
    "       '5':'4',}\n",
    "\n",
    "path = 'scooter-aug' #라벨링 교환할 경로\n",
    "\n",
    "change(dir, path)"
   ]
  }
 ],
 "metadata": {
  "kernelspec": {
   "display_name": "base",
   "language": "python",
   "name": "python3"
  },
  "language_info": {
   "codemirror_mode": {
    "name": "ipython",
    "version": 3
   },
   "file_extension": ".py",
   "mimetype": "text/x-python",
   "name": "python",
   "nbconvert_exporter": "python",
   "pygments_lexer": "ipython3",
   "version": "3.9.15"
  },
  "orig_nbformat": 4,
  "vscode": {
   "interpreter": {
    "hash": "73f15aa21341e3eafe5c8ee4ae0757ca383b3faf02ca9d9148520ce6408add7d"
   }
  }
 },
 "nbformat": 4,
 "nbformat_minor": 2
}
