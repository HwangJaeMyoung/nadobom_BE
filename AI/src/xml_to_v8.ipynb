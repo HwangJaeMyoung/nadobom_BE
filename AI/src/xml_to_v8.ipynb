{
 "cells": [
  {
   "cell_type": "code",
   "execution_count": 11,
   "metadata": {},
   "outputs": [],
   "source": [
    "#경로라고 주석 처리 되어 있는 곳은 맞춰서 변경하기\n",
    "import os"
   ]
  },
  {
   "attachments": {},
   "cell_type": "markdown",
   "metadata": {},
   "source": [
    "### 1. 필요 없는 xml 삭제 및 파일 통합"
   ]
  },
  {
   "cell_type": "code",
   "execution_count": 12,
   "metadata": {},
   "outputs": [],
   "source": [
    "#완료하면 지정된 경로에 사진만 남음\n",
    "#지정된 경로에 폴더만 있어야 에러 없이 돌아감, 딴거 있으면 코드 손봐야됨\n",
    "\n",
    "def integrate_file(path):\n",
    "    folder = os.listdir(path) #폴더 이름\n",
    "\n",
    "    for fname in folder :\n",
    "        file = os.listdir(f\"{path}/{fname}\") #지정된 경로의 폴더이름 리스트 저장\n",
    "        if len(file) != 0 and file[0].split(\".\")[1] == \"xml\" : #파일이 있을 때\n",
    "            os.remove(f\"{path}/{fname}/{file[0]}\") #필요없는 xml파일 삭제\n",
    "            del file[0]\n",
    "        for filename in file:\n",
    "            os.replace(f\"{path}/{fname}/{filename}\",f\"{path}/{filename}\")\n",
    "        os.removedirs(f\"{path}/{fname}\")"
   ]
  },
  {
   "cell_type": "code",
   "execution_count": null,
   "metadata": {},
   "outputs": [],
   "source": [
    "path = \"원데이터/data2\"\n",
    "\n",
    "integrate_file(path)"
   ]
  },
  {
   "attachments": {},
   "cell_type": "markdown",
   "metadata": {},
   "source": [
    "### 2. 폴더내 겹치는 사진 데이터 삭제"
   ]
  },
  {
   "cell_type": "code",
   "execution_count": null,
   "metadata": {},
   "outputs": [],
   "source": [
    "def overlap_del(path, label):\n",
    "    #path : 겹치는 사진 삭제할 폴더 경로\n",
    "    #label : 너가 지정한 라벨들 폴더 경로 리스트\n",
    "    \n",
    "    overlap_data = os.listdir(path) #삭제할 폴더내 사진이름 리스트 저장\n",
    "    \n",
    "    for i in label: \n",
    "        data = f\"원데이터/{i}\" #비교할 사진 폴더 경로\n",
    "        data_file = os.listdir(data) #폴더 내 데이터\n",
    "        data_file = [x.split(\".\")[0] for x in data_file if x.endswith(\".xml\")] #사진 이름 추출\n",
    "        \n",
    "        count = 0\n",
    "        \n",
    "        #겹치는 사진 개수\n",
    "        for name in data_file:\n",
    "            fname = f\"{name}.xml\"\n",
    "            if fname in overlap_data: count += 1\n",
    "        print(f\"겹치는 {i} 사진 개수: \",count) \n",
    "        \n",
    "        if count != 0:\n",
    "            count = 0\n",
    "            for name in data_file: #겹치는 데이터 삭제\n",
    "                if f\"{name}.jpg\" in overlap_data: os.remove(f\"{path}/{name}.jpg\")\n",
    "                if f\"{name}.png\" in overlap_data: os.remove(f\"{path}/{name}.png\")\n",
    "                if f\"{name}.xml\" in overlap_data: os.remove(f\"{path}/{name}.xml\")\n",
    "        \n",
    "        \n",
    "        #삭제후 겹치는 사진 개수\n",
    "        overlap_data = os.listdir(path) #원데이터\n",
    "        for name in data_file:\n",
    "            fname = f\"{name}.xml\"\n",
    "            if fname in overlap_data: count += 1\n",
    "        print(f\"겹치는 {i} 사진 개수: \",count)"
   ]
  },
  {
   "cell_type": "code",
   "execution_count": null,
   "metadata": {},
   "outputs": [],
   "source": [
    "path = '' #겹치는 사진 삭제할 폴더 경로\n",
    "label = ['scooter','barricade'] #너가 제외할 라벨들 폴더 이름 or 삭제할 폴더 이름 넣어도 될듯\n",
    "\n",
    "overlap_del(path,label)"
   ]
  },
  {
   "attachments": {},
   "cell_type": "markdown",
   "metadata": {},
   "source": [
    "### 3. 파일 10000개 단위로 분리"
   ]
  },
  {
   "cell_type": "code",
   "execution_count": 9,
   "metadata": {},
   "outputs": [],
   "source": [
    "def roboflow(path):\n",
    "    data = os.listdir(path) #원데이터\n",
    "\n",
    "    count = 0\n",
    "    j = 1\n",
    "\n",
    "    os.makedirs(f\"{path}/{path[-1]}-{j}\",exist_ok=True)\n",
    "\n",
    "    for i in data:\n",
    "        if count == 10000 : \n",
    "            count = 0\n",
    "            j += 1\n",
    "            os.makedirs(f\"{path}/{path[-1]}-{j}\",exist_ok=True)\n",
    "        os.replace(f\"{path}/{i}\",f\"{path}/{path[-1]}-{j}/{i}\")\n",
    "        count += 1    "
   ]
  },
  {
   "cell_type": "code",
   "execution_count": null,
   "metadata": {},
   "outputs": [],
   "source": [
    "path = '' #분리할 폴더 경로\n",
    "roboflow(path) #사진+xml 합 10000개"
   ]
  }
 ],
 "metadata": {
  "kernelspec": {
   "display_name": "base",
   "language": "python",
   "name": "python3"
  },
  "language_info": {
   "codemirror_mode": {
    "name": "ipython",
    "version": 3
   },
   "file_extension": ".py",
   "mimetype": "text/x-python",
   "name": "python",
   "nbconvert_exporter": "python",
   "pygments_lexer": "ipython3",
   "version": "3.9.15"
  },
  "orig_nbformat": 4,
  "vscode": {
   "interpreter": {
    "hash": "73f15aa21341e3eafe5c8ee4ae0757ca383b3faf02ca9d9148520ce6408add7d"
   }
  }
 },
 "nbformat": 4,
 "nbformat_minor": 2
}
